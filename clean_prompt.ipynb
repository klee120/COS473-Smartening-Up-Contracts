{
 "cells": [
  {
   "cell_type": "code",
   "execution_count": 2,
   "metadata": {},
   "outputs": [
    {
     "name": "stdout",
     "output_type": "stream",
     "text": [
      "\n",
      "    _|    _|  _|    _|    _|_|_|    _|_|_|  _|_|_|  _|      _|    _|_|_|      _|_|_|_|    _|_|      _|_|_|  _|_|_|_|\n",
      "    _|    _|  _|    _|  _|        _|          _|    _|_|    _|  _|            _|        _|    _|  _|        _|\n",
      "    _|_|_|_|  _|    _|  _|  _|_|  _|  _|_|    _|    _|  _|  _|  _|  _|_|      _|_|_|    _|_|_|_|  _|        _|_|_|\n",
      "    _|    _|  _|    _|  _|    _|  _|    _|    _|    _|    _|_|  _|    _|      _|        _|    _|  _|        _|\n",
      "    _|    _|    _|_|      _|_|_|    _|_|_|  _|_|_|  _|      _|    _|_|_|      _|        _|    _|    _|_|_|  _|_|_|_|\n",
      "\n",
      "    A token is already saved on your machine. Run `huggingface-cli whoami` to get more information or `huggingface-cli logout` if you want to log out.\n",
      "    Setting a new token will erase the existing one.\n",
      "    To login, `huggingface_hub` requires a token generated from https://huggingface.co/settings/tokens .\n",
      "Token is valid (permission: read).\n",
      "Your token has been saved to /users/klee12/.cache/huggingface/token\n",
      "Login successful\n"
     ]
    }
   ],
   "source": [
    "from huggingface_hub import interpreter_login\n",
    "\n",
    "interpreter_login()"
   ]
  },
  {
   "cell_type": "code",
   "execution_count": 3,
   "metadata": {},
   "outputs": [
    {
     "name": "stderr",
     "output_type": "stream",
     "text": [
      "None of PyTorch, TensorFlow >= 2.0, or Flax have been found. Models won't be available and only tokenizers, configuration and file/data utilities can be used.\n"
     ]
    },
    {
     "data": {
      "application/vnd.jupyter.widget-view+json": {
       "model_id": "da514271f9ea4e03a8b88360c1be4f9c",
       "version_major": 2,
       "version_minor": 0
      },
      "text/plain": [
       "Resolving data files:   0%|          | 0/21 [00:00<?, ?it/s]"
      ]
     },
     "metadata": {},
     "output_type": "display_data"
    },
    {
     "data": {
      "application/vnd.jupyter.widget-view+json": {
       "model_id": "8fd94db079fe4c1caca7499e8b0bac6a",
       "version_major": 2,
       "version_minor": 0
      },
      "text/plain": [
       "Loading dataset shards:   0%|          | 0/21 [00:00<?, ?it/s]"
      ]
     },
     "metadata": {},
     "output_type": "display_data"
    },
    {
     "name": "stdout",
     "output_type": "stream",
     "text": [
      "DatasetDict({\n",
      "    train: Dataset({\n",
      "        features: ['contract_name', 'file_path', 'contract_address', 'language', 'class_name', 'class_code', 'class_documentation', 'class_documentation_type', 'func_name', 'func_code', 'func_documentation', 'func_documentation_type', 'compiler_version', 'license_type', 'swarm_source', 'meta', '__index_level_0__'],\n",
      "        num_rows: 1267441\n",
      "    })\n",
      "    validation: Dataset({\n",
      "        features: ['contract_name', 'file_path', 'contract_address', 'language', 'class_name', 'class_code', 'class_documentation', 'class_documentation_type', 'func_name', 'func_code', 'func_documentation', 'func_documentation_type', 'compiler_version', 'license_type', 'swarm_source', 'meta', '__index_level_0__'],\n",
      "        num_rows: 130849\n",
      "    })\n",
      "    test: Dataset({\n",
      "        features: ['contract_name', 'file_path', 'contract_address', 'language', 'class_name', 'class_code', 'class_documentation', 'class_documentation_type', 'func_name', 'func_code', 'func_documentation', 'func_documentation_type', 'compiler_version', 'license_type', 'swarm_source', 'meta', '__index_level_0__'],\n",
      "        num_rows: 143080\n",
      "    })\n",
      "})\n"
     ]
    }
   ],
   "source": [
    "import pandas as pd\n",
    "from datasets import load_dataset\n",
    "from transformers import AutoTokenizer\n",
    "\n",
    "# Load the dataset\n",
    "dataset = load_dataset(\"andstor/smart_contract_code_comments\", 'default')\n",
    "\n",
    "# Print basic information about the dataset\n",
    "print(dataset)"
   ]
  },
  {
   "cell_type": "markdown",
   "metadata": {},
   "source": [
    "# Training Dataset"
   ]
  },
  {
   "cell_type": "code",
   "execution_count": 4,
   "metadata": {},
   "outputs": [],
   "source": [
    "train = dataset['train']"
   ]
  },
  {
   "cell_type": "markdown",
   "metadata": {},
   "source": [
    "## Split Full Code and Code Comment"
   ]
  },
  {
   "cell_type": "code",
   "execution_count": 5,
   "metadata": {},
   "outputs": [],
   "source": [
    "remove_cols = ['file_path', 'contract_address', 'language', 'class_name', 'class_documentation_type', 'func_name', 'func_code', 'func_documentation', 'func_documentation_type', 'compiler_version', 'license_type', 'swarm_source', 'meta', '__index_level_0__']"
   ]
  },
  {
   "cell_type": "code",
   "execution_count": 76,
   "metadata": {},
   "outputs": [],
   "source": [
    "code = train.remove_columns(remove_cols)"
   ]
  },
  {
   "cell_type": "code",
   "execution_count": 77,
   "metadata": {},
   "outputs": [],
   "source": [
    "# drop duplicates\n",
    "full_code = pd.DataFrame(code)\n",
    "full_code.drop_duplicates(inplace=True)"
   ]
  },
  {
   "cell_type": "markdown",
   "metadata": {},
   "source": [
    "## Function Headers and Function Comments"
   ]
  },
  {
   "cell_type": "code",
   "execution_count": 22,
   "metadata": {},
   "outputs": [],
   "source": [
    "remove_func_col = ['file_path', 'contract_address', 'class_code', 'class_documentation', 'language', 'class_name', 'class_documentation_type', 'func_documentation_type', 'compiler_version', 'license_type', 'swarm_source', 'meta', '__index_level_0__']"
   ]
  },
  {
   "cell_type": "code",
   "execution_count": 161,
   "metadata": {},
   "outputs": [],
   "source": [
    "func_code = train.remove_columns(remove_func_col)"
   ]
  },
  {
   "cell_type": "code",
   "execution_count": 171,
   "metadata": {},
   "outputs": [],
   "source": [
    "func = pd.DataFrame(func_code)"
   ]
  },
  {
   "cell_type": "code",
   "execution_count": 172,
   "metadata": {},
   "outputs": [],
   "source": [
    "import re\n",
    "count = 0\n",
    "\n",
    "# Define the function that extracts function headers\n",
    "def extract_function_header(func_code):\n",
    "    # Regular expression to match Solidity function declarations\n",
    "    func_header_regex = r'function\\s*[\\w\\d_]*\\s*\\([^)]*\\)\\s*[^{]*'\n",
    "    # Find all matches in the func_code\n",
    "    matches = re.findall(func_header_regex, func_code)\n",
    "    # Assume each func_code contains one function and take the first match\n",
    "    # If there are multiple matches, this will need adjustment\n",
    "    return matches[0] if matches else None\n",
    "\n",
    "# Assume 'data' is your DataFrame loaded from CSV and it has a column 'func_code'\n",
    "# You can apply the function directly on the DataFrame column\n",
    "func['func_header'] = func['func_code'].apply(extract_function_header)\n",
    "\n",
    "# filter out rows with no function headers\n",
    "func = func[func['func_header'].apply(lambda x: x is not None and len(x) > 0)]"
   ]
  },
  {
   "cell_type": "code",
   "execution_count": 173,
   "metadata": {},
   "outputs": [],
   "source": [
    "grouped_data = func.groupby('contract_name').agg({\n",
    "    'func_header': list,\n",
    "    'func_documentation': list\n",
    "}).reset_index()"
   ]
  },
  {
   "cell_type": "code",
   "execution_count": 174,
   "metadata": {},
   "outputs": [
    {
     "name": "stdout",
     "output_type": "stream",
     "text": [
      "      contract_name                                        func_header  \\\n",
      "0        $$$$$Token  [function totalSupply() public constant return...   \n",
      "1               $33  [function balanceOf(address account) external ...   \n",
      "2             $4RFI  [function totalSupply() external view returns ...   \n",
      "3              $AVG  [function totalSupply() public constant return...   \n",
      "4          $BANKINU  [function name() external view returns (string...   \n",
      "...             ...                                                ...   \n",
      "60688   zombittoken  [function totalSupply() constant returns (uint...   \n",
      "60689     zp_minter  [function supportsInterface(bytes4 interfaceId...   \n",
      "60690  zrankadictos  [function TokenERC20(\\r\\n    uint256 initialSu...   \n",
      "60691       zsToken  [function deposit(uint256 amount, uint256 _tok...   \n",
      "60692     zukiducks  [function tokenURI(uint256 _tokenId)\\r\\n    pu...   \n",
      "\n",
      "                                      func_documentation  \n",
      "0      [// ------------------------------------------...  \n",
      "1      [/**\\r\\n * @dev Returns the amount of tokens o...  \n",
      "2      [/**\\r\\n * @dev Returns the amount of tokens i...  \n",
      "3      [// ------------------------------------------...  \n",
      "4      [/**\\r\\n * @dev Returns the name of the token....  \n",
      "...                                                  ...  \n",
      "60688  [/// @return total amount of tokens, /// @para...  \n",
      "60689  [/**\\r\\n * @dev Returns true if this contract ...  \n",
      "60690  [/**\\r\\n * Constructor function\\r\\n *\\r\\n * In...  \n",
      "60691  [// Now handle deposits into the strategy, // ...  \n",
      "60692                                      [// Metadata]  \n",
      "\n",
      "[60693 rows x 3 columns]\n"
     ]
    }
   ],
   "source": [
    "print(grouped_data)"
   ]
  },
  {
   "cell_type": "markdown",
   "metadata": {},
   "source": [
    "## Join On Contract Name"
   ]
  },
  {
   "cell_type": "code",
   "execution_count": 175,
   "metadata": {},
   "outputs": [],
   "source": [
    "cleaned_data = pd.merge(grouped_data, full_code, on='contract_name', how='left')\n",
    "cleaned_data = cleaned_data.drop_duplicates(subset=['contract_name'], keep='first')\n"
   ]
  },
  {
   "cell_type": "code",
   "execution_count": 176,
   "metadata": {},
   "outputs": [
    {
     "name": "stdout",
     "output_type": "stream",
     "text": [
      "contract_name                                                 $$$$$Token\n",
      "func_header            [function totalSupply() public constant return...\n",
      "func_documentation     [// ------------------------------------------...\n",
      "class_code             contract $$$$$Token is ERC20Interface, SafeMat...\n",
      "class_documentation    /**\\r\\n ERC20 Token, with the addition of symb...\n",
      "Name: 0, dtype: object\n"
     ]
    }
   ],
   "source": [
    "print(cleaned_data.iloc[0])"
   ]
  },
  {
   "cell_type": "markdown",
   "metadata": {},
   "source": [
    "# Generate Prompts into JSON File"
   ]
  },
  {
   "cell_type": "markdown",
   "metadata": {},
   "source": [
    "Format:\n",
    "- Task Description: `class_documentation` - contract comment\n",
    "- Key Functions: \n",
    "  - `func_header, func_documentation`: function header and comment\n",
    "- Constraints: The contract must be gas-efficient and include security checks to prevent common vulnerabilities (e.g., reentrancy, overflow/underflow).\n",
    "\n",
    "Example:\n",
    "\n",
    "- Task Description: Create a token according to the ERC-20 standard with a mechanism for freezing assets for a specified period.\n",
    "- Key Functions: \n",
    "  - `mint(address recipient, uint256 amount)`: Mints tokens to a specified address.\n",
    "  - `freeze(address target, uint256 untilTimestamp)`: Freezes the assets of a specified address until a certain timestamp.\n",
    "  - `transfer(address recipient, uint256 amount)`: Allows token transfers, checking if the sender's assets are frozen.\n",
    "- Constraints: The contract must be gas-efficient and include security checks to prevent common vulnerabilities (e.g., reentrancy, overflow/underflow)."
   ]
  },
  {
   "cell_type": "code",
   "execution_count": 177,
   "metadata": {},
   "outputs": [],
   "source": [
    "# get 100 examples to use (TEST WITH 10)\n",
    "raw = cleaned_data[:10]"
   ]
  },
  {
   "cell_type": "code",
   "execution_count": 231,
   "metadata": {},
   "outputs": [],
   "source": [
    "def write_user_prompt(class_documentation, func_code_list, func_comment_list):\n",
    "    prompt = 'Generate a smart contract using Solidity 0.8.0 that accomplishes the following requirements:\\n'\n",
    "    \n",
    "    prompt += 'Task Description: {}\\n'.format(class_documentation.replace(\"/\", \"\").replace(\"*\", \"\"))\n",
    "    prompt += 'Key Functions:\\n'\n",
    "    \n",
    "    for idx in range(len(func_code_list)):\n",
    "        comment =  func_comment_list[idx].replace(\"/\", \"\").replace(\"-\", \"\").replace(\"\\n\", \"\")\n",
    "        prompt += '{}: {}\\n'.format(func_code_list[idx], comment)\n",
    "    \n",
    "    prompt += 'Constraints: The contract must be gas-efficient and include security checks to prevent common vulnerabilities (e.g., reentrancy, overflow/underflow).\\n'\n",
    "    \n",
    "    return prompt"
   ]
  },
  {
   "cell_type": "code",
   "execution_count": 192,
   "metadata": {},
   "outputs": [],
   "source": [
    "test = raw.iloc[0]\n",
    "\n",
    "with open('prompt-output.txt', 'w') as writefile:\n",
    "    writefile.write(write_user_prompt(test['class_documentation'], test['func_header'], test['func_documentation']))\n",
    "    "
   ]
  },
  {
   "cell_type": "code",
   "execution_count": 232,
   "metadata": {},
   "outputs": [],
   "source": [
    "output = []\n",
    "\n",
    "for idx, row in raw.iterrows():\n",
    "    prompt = [{\"role\": \"system\", \"content\": \"DEFI is an experienced Ethereum developer that writes properly functioning Solidity contracts.\"}]\n",
    "    prompt.append({\"role\":\"user\",\"content\":\"{}\".format(write_user_prompt(row['class_documentation'], row['func_header'], row['func_documentation']))})\n",
    "    prompt.append({\"role\": \"assistant\", \"content\": \"{}\".format(row['class_code'])})\n",
    "        \n",
    "    output.append({\"messages\":prompt})"
   ]
  },
  {
   "cell_type": "code",
   "execution_count": 234,
   "metadata": {},
   "outputs": [],
   "source": [
    "import jsonlines\n",
    "\n",
    "with jsonlines.open('prompts.jsonl', mode='w') as writer:\n",
    "    writer.write_all(output)"
   ]
  }
 ],
 "metadata": {
  "kernelspec": {
   "display_name": "Python 3",
   "language": "python",
   "name": "python3"
  },
  "language_info": {
   "codemirror_mode": {
    "name": "ipython",
    "version": 3
   },
   "file_extension": ".py",
   "mimetype": "text/x-python",
   "name": "python",
   "nbconvert_exporter": "python",
   "pygments_lexer": "ipython3",
   "version": "3.10.12"
  }
 },
 "nbformat": 4,
 "nbformat_minor": 2
}
