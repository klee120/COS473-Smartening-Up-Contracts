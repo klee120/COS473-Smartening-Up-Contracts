{
 "cells": [
  {
   "cell_type": "code",
   "execution_count": 3,
   "metadata": {},
   "outputs": [
    {
     "name": "stdout",
     "output_type": "stream",
     "text": [
      "Requirement already satisfied: jsonlines in ./.venv/lib/python3.8/site-packages (4.0.0)\n",
      "Collecting pandas\n",
      "  Downloading pandas-2.0.3-cp38-cp38-manylinux_2_17_x86_64.manylinux2014_x86_64.whl.metadata (18 kB)\n",
      "Requirement already satisfied: attrs>=19.2.0 in ./.venv/lib/python3.8/site-packages (from jsonlines) (23.2.0)\n",
      "Requirement already satisfied: python-dateutil>=2.8.2 in ./.venv/lib/python3.8/site-packages (from pandas) (2.9.0.post0)\n",
      "Collecting pytz>=2020.1 (from pandas)\n",
      "  Downloading pytz-2024.1-py2.py3-none-any.whl.metadata (22 kB)\n",
      "Collecting tzdata>=2022.1 (from pandas)\n",
      "  Downloading tzdata-2024.1-py2.py3-none-any.whl.metadata (1.4 kB)\n",
      "Collecting numpy>=1.20.3 (from pandas)\n",
      "  Downloading numpy-1.24.4-cp38-cp38-manylinux_2_17_x86_64.manylinux2014_x86_64.whl.metadata (5.6 kB)\n",
      "Requirement already satisfied: six>=1.5 in ./.venv/lib/python3.8/site-packages (from python-dateutil>=2.8.2->pandas) (1.16.0)\n",
      "Downloading pandas-2.0.3-cp38-cp38-manylinux_2_17_x86_64.manylinux2014_x86_64.whl (12.4 MB)\n",
      "\u001b[2K   \u001b[90m━━━━━━━━━━━━━━━━━━━━━━━━━━━━━━━━━━━━━━━━\u001b[0m \u001b[32m12.4/12.4 MB\u001b[0m \u001b[31m23.1 MB/s\u001b[0m eta \u001b[36m0:00:00\u001b[0m00:01\u001b[0m00:01\u001b[0m\n",
      "\u001b[?25hDownloading numpy-1.24.4-cp38-cp38-manylinux_2_17_x86_64.manylinux2014_x86_64.whl (17.3 MB)\n",
      "\u001b[2K   \u001b[90m━━━━━━━━━━━━━━━━━━━━━━━━━━━━━━━━━━━━━━━━\u001b[0m \u001b[32m17.3/17.3 MB\u001b[0m \u001b[31m5.2 MB/s\u001b[0m eta \u001b[36m0:00:00\u001b[0m00:01\u001b[0m00:01\u001b[0mm\n",
      "\u001b[?25hDownloading pytz-2024.1-py2.py3-none-any.whl (505 kB)\n",
      "\u001b[2K   \u001b[90m━━━━━━━━━━━━━━━━━━━━━━━━━━━━━━━━━━━━━━━━\u001b[0m \u001b[32m505.5/505.5 kB\u001b[0m \u001b[31m11.3 MB/s\u001b[0m eta \u001b[36m0:00:00\u001b[0m00:01\u001b[0m\n",
      "\u001b[?25hDownloading tzdata-2024.1-py2.py3-none-any.whl (345 kB)\n",
      "\u001b[2K   \u001b[90m━━━━━━━━━━━━━━━━━━━━━━━━━━━━━━━━━━━━━━━━\u001b[0m \u001b[32m345.4/345.4 kB\u001b[0m \u001b[31m12.7 MB/s\u001b[0m eta \u001b[36m0:00:00\u001b[0m\n",
      "\u001b[?25hInstalling collected packages: pytz, tzdata, numpy, pandas\n",
      "Successfully installed numpy-1.24.4 pandas-2.0.3 pytz-2024.1 tzdata-2024.1\n"
     ]
    }
   ],
   "source": [
    "!pip install jsonlines pandas"
   ]
  },
  {
   "cell_type": "code",
   "execution_count": 4,
   "metadata": {},
   "outputs": [],
   "source": [
    "import pandas as pd"
   ]
  },
  {
   "cell_type": "code",
   "execution_count": 59,
   "metadata": {},
   "outputs": [],
   "source": [
    "df = pd.read_json('edit-prompts.jsonl', lines=True)"
   ]
  },
  {
   "cell_type": "markdown",
   "metadata": {},
   "source": [
    "# Test Prompt"
   ]
  },
  {
   "cell_type": "code",
   "execution_count": 75,
   "metadata": {},
   "outputs": [],
   "source": [
    "idx = 8\n",
    "\n",
    "with open('prompt.txt', 'w') as writefile:\n",
    "    writefile.write(df.iloc[idx][1]['content'])\n",
    "    \n",
    "with open('code.txt', 'w') as writefile:\n",
    "    writefile.write(df.iloc[idx][2]['content'])"
   ]
  },
  {
   "cell_type": "code",
   "execution_count": null,
   "metadata": {},
   "outputs": [],
   "source": [
    "could_reformat = [(8, \"spacing\")]"
   ]
  },
  {
   "cell_type": "markdown",
   "metadata": {},
   "source": [
    "# Update"
   ]
  },
  {
   "cell_type": "code",
   "execution_count": 76,
   "metadata": {},
   "outputs": [],
   "source": [
    "with open('prompt.txt', 'r') as readfile:\n",
    "    df.iloc[idx][1]['content'] = readfile.read()\n",
    "\n",
    "with open('code.txt', 'r') as readfile:\n",
    "    df.iloc[idx][2]['content'] = readfile.read()\n"
   ]
  },
  {
   "cell_type": "code",
   "execution_count": 77,
   "metadata": {},
   "outputs": [],
   "source": [
    "import jsonlines\n",
    "\n",
    "\n",
    "with jsonlines.open('output.jsonl', mode='w') as writer:\n",
    "    \n",
    "    for idx in range(len(df)):\n",
    "        prompt = [df.iloc[idx][i] for i in range(len(df.iloc[idx]))]\n",
    "        writer.write(prompt)"
   ]
  },
  {
   "cell_type": "markdown",
   "metadata": {},
   "source": [
    "# Valid Prompts"
   ]
  },
  {
   "cell_type": "code",
   "execution_count": 2,
   "metadata": {},
   "outputs": [],
   "source": [
    "output = []"
   ]
  },
  {
   "cell_type": "code",
   "execution_count": 15,
   "metadata": {},
   "outputs": [],
   "source": [
    "prompt = [{\"role\": \"system\", \"content\": \"You are the greatest Smart contract Ethereum developer in the world. You have never messed up and always write the best and most complicated yet functioning Solidity contracts.\"}]"
   ]
  },
  {
   "cell_type": "code",
   "execution_count": 16,
   "metadata": {},
   "outputs": [],
   "source": [
    "user = \"\"\"\n",
    "Generate a AbstractToken smart contract using Solidity 0.4.17. Fill in all the functions using the function signatures and accomplish the following requirements:\n",
    "Task Description: Abstract Token Smart Contract that could be used as a base contract forERC-20 token contracts.\n",
    " \n",
    "The contract must have the following constraint: The contract is gas-efficient and include security checks to prevent common vulnerabilities (e.g., reentrancy, overflow/underflow).\n",
    "\n",
    "Here are the key functions that you must fully implement so that they are functioning:\n",
    "1. function balanceOf(address _owner) public view returns (uint256 balance): \n",
    "- Get number of tokens currently belonging to given owner.\n",
    "- Parameter: _owner is the address to get number of tokens currently belonging to the owner\n",
    "- Return: number of tokens currently belonging to the owner of given address\n",
    " \n",
    "2. function transfer(address _to, uint256 _value) public returns (bool success): \n",
    "- Transfer given number of tokens from message sender to given recipient.\n",
    "- Parameter: _to is the address to transfer tokens to the owner of\n",
    "- Parameter: _value is the number of tokens to transfer to the owner of given address\n",
    "- Return: true if tokens were transferred successfully, false otherwise accounts [_to] + _value > accounts [_to] for overflow check which is already in safeMath\n",
    " \n",
    "3. function transferFrom(address _from, address _to, uint256 _value) public returns (bool success): \n",
    "- Transfer given number of tokens from given owner to given recipient.\n",
    "- Parameter: _from is the address to transfer tokens from the owner of\n",
    "- Parameter: _to is the address to transfer tokens to the owner of\n",
    "- Parameter: _value is the number of tokens to transfer from given owner to given recipient\n",
    "- Return: true if tokens were transferred successfully, false otherwise accounts [_to] + _value > accounts [_to] for overflow check which is already in safeMath\n",
    " \n",
    "4. function approve (address _spender, uint256 _value) public returns (bool success): Allow given spender to transfer given number of tokens from message sender.\n",
    "- Parameter: _spender is the address to allow the owner of to transfer tokens from message sender\n",
    "- Parameter: _value is the number of tokens to allow to transfer\n",
    "- return true if token transfer was successfully approved, false otherwise\n",
    " \n",
    "5. function allowance(address _owner, address _spender) public view returns (uint256 remaining): \n",
    "- Tell how many tokens given spender is currently allowed to transfer from given owner.\n",
    "- Parameter: _owner is the address to get number of tokens allowed to be transferred from the owner of\n",
    "- Parameter: _spender is the address to get number of tokens allowed to be transferred by the owner of\n",
    "- Return: number of tokens given spender is currently allowed to transfer from given owner\n",
    "\n",
    "\"\"\""
   ]
  },
  {
   "cell_type": "code",
   "execution_count": 17,
   "metadata": {},
   "outputs": [],
   "source": [
    "code = df.iloc[idx]['messages'][2]['content']"
   ]
  },
  {
   "cell_type": "code",
   "execution_count": 18,
   "metadata": {},
   "outputs": [],
   "source": [
    "prompt.append({\"role\":\"user\",\"content\":\"{}\".format(user)})\n",
    "prompt.append({\"role\": \"assistant\", \"content\": \"{}\".format(code)})\n",
    "\n",
    "output.append(prompt)"
   ]
  },
  {
   "cell_type": "code",
   "execution_count": null,
   "metadata": {},
   "outputs": [],
   "source": [
    "import jsonlines\n",
    "\n",
    "with jsonlines.open('data3.jsonl', mode='w') as writer:\n",
    "    writer.write_all(output)"
   ]
  },
  {
   "cell_type": "code",
   "execution_count": 19,
   "metadata": {},
   "outputs": [
    {
     "data": {
      "text/plain": [
       "2"
      ]
     },
     "execution_count": 19,
     "metadata": {},
     "output_type": "execute_result"
    }
   ],
   "source": [
    "len(output)"
   ]
  },
  {
   "cell_type": "code",
   "execution_count": 3,
   "metadata": {},
   "outputs": [],
   "source": [
    "import pandas as pd\n",
    "test = pd.read_json('valid.jsonl', lines=True)"
   ]
  },
  {
   "cell_type": "code",
   "execution_count": 4,
   "metadata": {},
   "outputs": [],
   "source": [
    "with open('valid_code.txt', 'w') as writefile:\n",
    "    writefile.write(test[2][0]['content'])"
   ]
  },
  {
   "cell_type": "code",
   "execution_count": 5,
   "metadata": {},
   "outputs": [],
   "source": [
    "with open('valid_prompt.txt', 'w') as writefile:\n",
    "    writefile.write(test[1][0]['content'])"
   ]
  },
  {
   "cell_type": "code",
   "execution_count": 18,
   "metadata": {},
   "outputs": [
    {
     "name": "stdout",
     "output_type": "stream",
     "text": [
      "contract FuturesProtocol is ERC20Interface, Owned, SafeMath {\n",
      "    string public symbol;\n",
      "    string public  name;\n",
      "    uint8 public decimals;\n",
      "    uint public _totalSupply;\n",
      "\n",
      "    mapping(address => uint) balances;\n",
      "    mapping(address => mapping(address => uint)) allowed;\n",
      "\n",
      "\n",
      "    // ------------------------------------------------------------------------\n",
      "    // Constructor\n",
      "    // ------------------------------------------------------------------------\n",
      "    constructor() public {\n",
      "        symbol = \"FUPT\";\n",
      "        name = \"Futures Protocol\";\n",
      "        decimals = 18;\n",
      "        _totalSupply = 100000000000000000000000000;\n",
      "        balances[0xD02EceAfFC3aAAed2De538fFBC32d4f8F45df247] = _totalSupply;\n",
      "        emit Transfer(address(0), 0xD02EceAfFC3aAAed2De538fFBC32d4f8F45df247, _totalSupply);\n",
      "    }\n",
      "\n",
      "\n",
      "    // ------------------------------------------------------------------------\n",
      "    // Total supply\n",
      "    // ------------------------------------------------------------------------\n",
      "    function totalSupply() public constant returns (uint) {\n",
      "        return _totalSupply  - balances[address(0)];\n",
      "    }\n",
      "\n",
      "\n",
      "    // ------------------------------------------------------------------------\n",
      "    // Get the token balance for account tokenOwner\n",
      "    // ------------------------------------------------------------------------\n",
      "    function balanceOf(address tokenOwner) public constant returns (uint balance) {\n",
      "        return balances[tokenOwner];\n",
      "    }\n",
      "\n",
      "\n",
      "    // ------------------------------------------------------------------------\n",
      "    // Transfer the balance from token owner's account to to account\n",
      "    // - Owner's account must have sufficient balance to transfer\n",
      "    // - 0 value transfers are allowed\n",
      "    // ------------------------------------------------------------------------\n",
      "    function transfer(address to, uint tokens) public returns (bool success) {\n",
      "        balances[msg.sender] = safeSub(balances[msg.sender], tokens);\n",
      "        balances[to] = safeAdd(balances[to], tokens);\n",
      "        emit Transfer(msg.sender, to, tokens);\n",
      "        return true;\n",
      "    }\n",
      "\n",
      "\n",
      "    // ------------------------------------------------------------------------\n",
      "    // Token owner can approve for spender to transferFrom(...) tokens\n",
      "    // from the token owner's account\n",
      "    //\n",
      "    // https://github.com/ethereum/EIPs/blob/master/EIPS/eip-20-token-standard.md\n",
      "    // recommends that there are no checks for the approval double-spend attack\n",
      "    // as this should be implemented in user interfaces \n",
      "    // ------------------------------------------------------------------------\n",
      "    function approve(address spender, uint tokens) public returns (bool success) {\n",
      "        allowed[msg.sender][spender] = tokens;\n",
      "        emit Approval(msg.sender, spender, tokens);\n",
      "        return true;\n",
      "    }\n",
      "\n",
      "\n",
      "    // ------------------------------------------------------------------------\n",
      "    // Transfer tokens from the from account to the to account\n",
      "    // \n",
      "    // The calling account must already have sufficient tokens approve(...)-d\n",
      "    // for spending from the from account and\n",
      "    // - From account must have sufficient balance to transfer\n",
      "    // - Spender must have sufficient allowance to transfer\n",
      "    // - 0 value transfers are allowed\n",
      "    // ------------------------------------------------------------------------\n",
      "    function transferFrom(address from, address to, uint tokens) public returns (bool success) {\n",
      "        balances[from] = safeSub(balances[from], tokens);\n",
      "        allowed[from][msg.sender] = safeSub(allowed[from][msg.sender], tokens);\n",
      "        balances[to] = safeAdd(balances[to], tokens);\n",
      "        emit Transfer(from, to, tokens);\n",
      "        return true;\n",
      "    }\n",
      "\n",
      "\n",
      "    // ------------------------------------------------------------------------\n",
      "    // Returns the amount of tokens approved by the owner that can be\n",
      "    // transferred to the spender's account\n",
      "    // ------------------------------------------------------------------------\n",
      "    function allowance(address tokenOwner, address spender) public constant returns (uint remaining) {\n",
      "        return allowed[tokenOwner][spender];\n",
      "    }\n",
      "\n",
      "\n",
      "    // ------------------------------------------------------------------------\n",
      "    // Token owner can approve for spender to transferFrom(...) tokens\n",
      "    // from the token owner's account. The spender contract function\n",
      "    // receiveApproval(...) is then executed\n",
      "    // ------------------------------------------------------------------------\n",
      "    function approveAndCall(address spender, uint tokens, bytes data) public returns (bool success) {\n",
      "        allowed[msg.sender][spender] = tokens;\n",
      "        emit Approval(msg.sender, spender, tokens);\n",
      "        ApproveAndCallFallBack(spender).receiveApproval(msg.sender, tokens, this, data);\n",
      "        return true;\n",
      "    }\n",
      "\n",
      "\n",
      "    // ------------------------------------------------------------------------\n",
      "    // Don't accept ETH\n",
      "    // ------------------------------------------------------------------------\n",
      "    function () public payable {\n",
      "        revert();\n",
      "    }\n",
      "\n",
      "\n",
      "    // ------------------------------------------------------------------------\n",
      "    // Owner can transfer out any accidentally sent ERC20 tokens\n",
      "    // ------------------------------------------------------------------------\n",
      "    function transferAnyERC20Token(address tokenAddress, uint tokens) public onlyOwner returns (bool success) {\n",
      "        return ERC20Interface(tokenAddress).transfer(owner, tokens);\n",
      "    }\n",
      "}\n"
     ]
    }
   ],
   "source": [
    "print(test[2][0]['content'])"
   ]
  }
 ],
 "metadata": {
  "kernelspec": {
   "display_name": "Python 3",
   "language": "python",
   "name": "python3"
  },
  "language_info": {
   "codemirror_mode": {
    "name": "ipython",
    "version": 3
   },
   "file_extension": ".py",
   "mimetype": "text/x-python",
   "name": "python",
   "nbconvert_exporter": "python",
   "pygments_lexer": "ipython3",
   "version": "3.8.10"
  }
 },
 "nbformat": 4,
 "nbformat_minor": 2
}
