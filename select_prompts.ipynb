{
 "cells": [
  {
   "cell_type": "code",
   "execution_count": 2,
   "metadata": {},
   "outputs": [],
   "source": [
    "import pandas as pd"
   ]
  },
  {
   "cell_type": "code",
   "execution_count": 3,
   "metadata": {},
   "outputs": [],
   "source": [
    "df = pd.read_json('new_data.jsonl', lines=True)"
   ]
  },
  {
   "cell_type": "code",
   "execution_count": 7,
   "metadata": {},
   "outputs": [],
   "source": [
    "output = []"
   ]
  },
  {
   "cell_type": "markdown",
   "metadata": {},
   "source": [
    "### Get Current Code and Prompt"
   ]
  },
  {
   "cell_type": "code",
   "execution_count": 4,
   "metadata": {},
   "outputs": [],
   "source": [
    "idx = 75\n",
    "\n",
    "with open('0-prompt.txt', 'w') as writefile:\n",
    "    writefile.write(df.iloc[idx]['messages'][1]['content'])\n",
    "    \n",
    "with open('0-code.txt', 'w') as writefile:\n",
    "    writefile.write(df.iloc[idx]['messages'][2]['content'])"
   ]
  },
  {
   "cell_type": "markdown",
   "metadata": {},
   "source": [
    "### Write to Output"
   ]
  },
  {
   "cell_type": "code",
   "execution_count": 111,
   "metadata": {},
   "outputs": [],
   "source": [
    "prompt = [{\"role\": \"system\", \"content\": \"You are the greatest Smart contract Ethereum developer in the world. You have never messed up and always write the best and most complicated yet functioning Solidity contracts.\"}]"
   ]
  },
  {
   "cell_type": "code",
   "execution_count": 112,
   "metadata": {},
   "outputs": [],
   "source": [
    "user = \"\"\"Generate a PerkyPineapples smart contract using Solidity 0.4.17. Fill in all the functions using the function signatures and accomplish the following requirements:\n",
    "Task Description: Develop a unique ERC721 token smart contract, PerkyPineapples, designed to manage a collection of NFTs with distinct minting phases, including a free minting period. This contract incorporates several adjustable parameters to control the sales process, such as activation status, price per token, maximum tokens per transaction, and limitations on free mints per wallet. It also includes a mechanism to gift tokens and withdraw contract balances, alongside integration with proxy registries for marketplace compatibility.\n",
    "\n",
    "Contract Specifications:\n",
    "- Inherits ERC721 and Ownable functionalities for NFT management and ownership control.\n",
    "- Defines parameters for sale activation, token pricing, minting caps, and free mint allowances.\n",
    "- Utilizes a counter to track the total supply of tokens.\n",
    "- Allows for the setting of hidden and base URIs to manage how token metadata is presented before and after reveal.\n",
    "- Includes proxy registry address integration for marketplace facilitation.\n",
    "\n",
    "Key Functionalities:\n",
    "1. Sale Activation: The contract owner can toggle the sale's active status, controlling when minting is allowed.\n",
    "2. Minting: Users can mint a specified number of tokens, adhering to maximum per transaction and total supply limits, with a distinction between paid and free minting based on the current supply and per-wallet free mint limits.\n",
    "3. Gifting Tokens: The contract owner can mint tokens directly to any address, bypassing payment and mint limits.\n",
    "4. Withdrawal: Enables the contract owner to withdraw the balance of ETH collected from token sales.\n",
    "5. Metadata Management: Offers functions to set hidden and revealed metadata URIs for the tokens.\n",
    "6. Marketplace Integration: Adjusts approval checks for token operations through a proxy registry, aiding in marketplace listings.\n",
    "\n",
    "Implementation Details:\n",
    "- The contract distinguishes between free and paid mints based on the total amount of tokens already minted and individual wallet contributions to the free mint count.\n",
    "- Incorporates safety checks to prevent sending ETH to the contract unintentionally.\n",
    "- Utilizes a constructor to gift an initial set of tokens to the contract deployer.\n",
    "- Employs Counters to safely increment token IDs upon minting.\n",
    "- Provides public view functions for querying contract states, such as total supply and sale activation status.\n",
    "\n",
    "Security Considerations:\n",
    "- Ensures that minting functions check for sale activation and adhere to max supply constraints to prevent over-minting.\n",
    "- Uses onlyOwner modifiers for functions that modify critical parameters, ensuring that only the contract owner can alter the sale dynamics.\n",
    "- Prevents direct ETH transfers to the contract, mitigating the risk of unintended contract interactions.\n",
    "- Safe use of external calls (msg.sender.call) in the withdrawal function, though care must be taken to monitor for reentrancy vulnerabilities.\n",
    "\"\"\""
   ]
  },
  {
   "cell_type": "code",
   "execution_count": 82,
   "metadata": {},
   "outputs": [],
   "source": [
    "code = df.iloc[idx]['messages'][2]['content']"
   ]
  },
  {
   "cell_type": "code",
   "execution_count": 113,
   "metadata": {},
   "outputs": [],
   "source": [
    "code = \"\"\"\n",
    "contract PerkyPineapples is ERC721, Ownable {\n",
    "    bool public saleIsActive = false;\n",
    "\n",
    "    uint256 public price = 0.025 ether;\n",
    "\tuint public maxPerTx = 10;\n",
    "\tuint public maxFreeMintPerWallet = 20;\n",
    "\tuint public amountAvailableFreeMint = 200;\n",
    "\tuint public maxSupply = 5000;\n",
    "\taddress proxyRegistryAddress ; \n",
    "\tmapping(address => uint) public addressFreeMinted;\n",
    "    string public _hiddenURI = \"ipfs://QmRkNnfQExTwer7vL1PNuRszzshpUWjRb7AerWQt1Ef82Q/hidden.json\";\n",
    "    string public _baseURIextended = \"\";\n",
    "\t\n",
    "    using Counters for Counters.Counter;\n",
    "    Counters.Counter private _tokenSupply;\n",
    "\n",
    "    constructor() ERC721(\"PerkyPineapples\", \"PP\") {\n",
    "        for (uint256 i = 0; i < 10; i++){\n",
    "            gift(msg.sender);\n",
    "        }\n",
    "    }\n",
    "\n",
    "    function totalSupply() public view returns (uint256 supply) {\n",
    "        return _tokenSupply.current();\n",
    "    }\n",
    "\n",
    "    function _baseURI() internal view virtual override returns (string memory) {\n",
    "        return _baseURIextended;\n",
    "    }\n",
    "\n",
    "    function isApprovedForAll(address owner, address operator) public view override returns (bool) {\n",
    "        ProxyRegistry proxyRegistry = ProxyRegistry(proxyRegistryAddress);\n",
    "        if (address(proxyRegistry.proxies(owner)) == operator) {\n",
    "            return true;\n",
    "        }\n",
    "\n",
    "        return super.isApprovedForAll(owner, operator);\n",
    "    }\n",
    "\n",
    "    function mint(uint numberOfTokens) external payable {\n",
    "        require(saleIsActive, \"Sale is inactive.\");\n",
    "        require(numberOfTokens <= maxPerTx, \"You can only mint 10 at a time.\");\n",
    "        require(_tokenSupply.current() + numberOfTokens <= maxSupply, \"Purchase would exceed max supply of tokens\");\n",
    "        \n",
    "        if (_tokenSupply.current() + numberOfTokens > amountAvailableFreeMint) {\n",
    "            require((price * numberOfTokens) <= msg.value, \"Don't send under (in ETH).\");\n",
    "        } else {\n",
    "\t\t\trequire(msg.value == 0, \"Don't send ether for the free mint.\");\n",
    "\t\t\trequire(addressFreeMinted[msg.sender] < maxFreeMintPerWallet, \"You can only adopt 20 free CAU per wallet. Wait for the paid adoption.\");\n",
    "\t\t}\n",
    "\t\t\n",
    "\t\taddressFreeMinted[msg.sender] += numberOfTokens;\n",
    "        for(uint i = 0; i < numberOfTokens; i++) {\n",
    "\t\t  uint256 _tokenId = _tokenSupply.current() + 1;\n",
    "            _safeMint(msg.sender, _tokenId);\n",
    "            _tokenSupply.increment();\n",
    "        }\n",
    "    }\n",
    "\n",
    "    function gift(address _to) public onlyOwner {\n",
    "        uint256 _tokenId = _tokenSupply.current() + 1;\n",
    "        _safeMint(_to, _tokenId);\n",
    "        _tokenSupply.increment();\n",
    "    }\n",
    "\n",
    "    function withdraw() public onlyOwner {\n",
    "        (bool success, ) = msg.sender.call{value: address(this).balance}(\"\");\n",
    "        require(success, \"Address: unable to send value, recipient may have reverted\");\n",
    "    }\n",
    "\n",
    "    function tokenURI(uint256 tokenId) public view virtual override returns (string memory) {\n",
    "        require(_exists(tokenId), \"ERC721Metadata: URI query for nonexistent token\");\n",
    "\n",
    "        string memory baseURI = _baseURI();\n",
    "        return bytes(baseURI).length > 0 \n",
    "            ? string(abi.encodePacked(baseURI, Strings.toString(tokenId), \".json\")) \n",
    "            : _hiddenURI; // If the base URI is not set, return a hidden URI\n",
    "    }\n",
    "\n",
    "    function setSaleIsActive(bool newState) public onlyOwner {\n",
    "        saleIsActive = newState;\n",
    "    }\n",
    "\n",
    "    function setPrice(uint newPrice) public onlyOwner {\n",
    "        price = newPrice;\n",
    "    }\n",
    "\n",
    "    function setMaxPerTx(uint _maxPerTx) external onlyOwner() {\n",
    "        maxPerTx = _maxPerTx;\n",
    "    }\n",
    "\n",
    "    function setMaxFreeMintPerWallet(uint _maxFreeMint) public onlyOwner() {\n",
    "        maxFreeMintPerWallet = _maxFreeMint;\n",
    "    }\n",
    "\n",
    "    function setAmountAvailableFreeMint(uint _freeMint) public onlyOwner() {\n",
    "        amountAvailableFreeMint = _freeMint;\n",
    "    }\n",
    "\n",
    "    function setMaxSupply(uint _maxSupply) public onlyOwner() {\n",
    "        maxSupply = _maxSupply;\n",
    "    }\n",
    "\n",
    "    // rinkeby: 0xf57b2c51ded3a29e6891aba85459d600256cf317\n",
    "    // mainnet: 0xa5409ec958c83c3f309868babaca7c86dcb077c1\n",
    "    function setProxyRegistryAddress(address proxyAddress) external onlyOwner {\n",
    "        proxyRegistryAddress = proxyAddress;\n",
    "    }\n",
    "\n",
    "    function setHiddenUri(string memory hiddenURI) public onlyOwner() {\n",
    "        _hiddenURI = hiddenURI;\n",
    "    }\n",
    "\n",
    "    function setBaseURI(string memory baseURI_) external onlyOwner() {\n",
    "        _baseURIextended = baseURI_;\n",
    "    }\n",
    "}\n",
    "\"\"\""
   ]
  },
  {
   "cell_type": "code",
   "execution_count": 114,
   "metadata": {},
   "outputs": [],
   "source": [
    "prompt.append({\"role\":\"user\",\"content\":\"{}\".format(user)})\n",
    "prompt.append({\"role\": \"assistant\", \"content\": \"{}\".format(code)})\n",
    "\n",
    "output.append(prompt)\n",
    "\n",
    "prompt = []\n",
    "user = \"\"\n",
    "code = \"\""
   ]
  },
  {
   "cell_type": "code",
   "execution_count": 115,
   "metadata": {},
   "outputs": [],
   "source": [
    "import jsonlines\n",
    "\n",
    "with jsonlines.open('edit-prompts2.jsonl', mode='w') as writer:\n",
    "    writer.write_all(output)"
   ]
  }
 ],
 "metadata": {
  "kernelspec": {
   "display_name": "Python 3",
   "language": "python",
   "name": "python3"
  },
  "language_info": {
   "codemirror_mode": {
    "name": "ipython",
    "version": 3
   },
   "file_extension": ".py",
   "mimetype": "text/x-python",
   "name": "python",
   "nbconvert_exporter": "python",
   "pygments_lexer": "ipython3",
   "version": "3.10.12"
  }
 },
 "nbformat": 4,
 "nbformat_minor": 2
}
