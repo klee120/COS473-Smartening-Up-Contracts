{
 "cells": [
  {
   "cell_type": "code",
   "execution_count": null,
   "metadata": {},
   "outputs": [],
   "source": [
    "!pip install datasets transformers jsonlines"
   ]
  },
  {
   "cell_type": "code",
   "execution_count": 1,
   "metadata": {},
   "outputs": [
    {
     "name": "stderr",
     "output_type": "stream",
     "text": [
      "/users/klee12/.local/lib/python3.10/site-packages/tqdm/auto.py:21: TqdmWarning: IProgress not found. Please update jupyter and ipywidgets. See https://ipywidgets.readthedocs.io/en/stable/user_install.html\n",
      "  from .autonotebook import tqdm as notebook_tqdm\n"
     ]
    },
    {
     "name": "stdout",
     "output_type": "stream",
     "text": [
      "\n",
      "    _|    _|  _|    _|    _|_|_|    _|_|_|  _|_|_|  _|      _|    _|_|_|      _|_|_|_|    _|_|      _|_|_|  _|_|_|_|\n",
      "    _|    _|  _|    _|  _|        _|          _|    _|_|    _|  _|            _|        _|    _|  _|        _|\n",
      "    _|_|_|_|  _|    _|  _|  _|_|  _|  _|_|    _|    _|  _|  _|  _|  _|_|      _|_|_|    _|_|_|_|  _|        _|_|_|\n",
      "    _|    _|  _|    _|  _|    _|  _|    _|    _|    _|    _|_|  _|    _|      _|        _|    _|  _|        _|\n",
      "    _|    _|    _|_|      _|_|_|    _|_|_|  _|_|_|  _|      _|    _|_|_|      _|        _|    _|    _|_|_|  _|_|_|_|\n",
      "\n",
      "    A token is already saved on your machine. Run `huggingface-cli whoami` to get more information or `huggingface-cli logout` if you want to log out.\n",
      "    Setting a new token will erase the existing one.\n",
      "    To login, `huggingface_hub` requires a token generated from https://huggingface.co/settings/tokens .\n",
      "Token is valid (permission: read).\n",
      "Your token has been saved to /users/klee12/.cache/huggingface/token\n",
      "Login successful\n"
     ]
    }
   ],
   "source": [
    "from huggingface_hub import interpreter_login\n",
    "\n",
    "interpreter_login()"
   ]
  },
  {
   "cell_type": "code",
   "execution_count": 2,
   "metadata": {},
   "outputs": [
    {
     "name": "stderr",
     "output_type": "stream",
     "text": [
      "None of PyTorch, TensorFlow >= 2.0, or Flax have been found. Models won't be available and only tokenizers, configuration and file/data utilities can be used.\n"
     ]
    },
    {
     "name": "stdout",
     "output_type": "stream",
     "text": [
      "DatasetDict({\n",
      "    train: Dataset({\n",
      "        features: ['contract_name', 'file_path', 'contract_address', 'language', 'class_name', 'class_code', 'class_documentation', 'class_documentation_type', 'func_name', 'func_code', 'func_documentation', 'func_documentation_type', 'compiler_version', 'license_type', 'swarm_source', 'meta', '__index_level_0__'],\n",
      "        num_rows: 1267441\n",
      "    })\n",
      "    validation: Dataset({\n",
      "        features: ['contract_name', 'file_path', 'contract_address', 'language', 'class_name', 'class_code', 'class_documentation', 'class_documentation_type', 'func_name', 'func_code', 'func_documentation', 'func_documentation_type', 'compiler_version', 'license_type', 'swarm_source', 'meta', '__index_level_0__'],\n",
      "        num_rows: 130849\n",
      "    })\n",
      "    test: Dataset({\n",
      "        features: ['contract_name', 'file_path', 'contract_address', 'language', 'class_name', 'class_code', 'class_documentation', 'class_documentation_type', 'func_name', 'func_code', 'func_documentation', 'func_documentation_type', 'compiler_version', 'license_type', 'swarm_source', 'meta', '__index_level_0__'],\n",
      "        num_rows: 143080\n",
      "    })\n",
      "})\n"
     ]
    }
   ],
   "source": [
    "import pandas as pd\n",
    "from datasets import load_dataset\n",
    "from transformers import AutoTokenizer\n",
    "\n",
    "# Load the dataset\n",
    "dataset = load_dataset(\"andstor/smart_contract_code_comments\", 'default')\n",
    "\n",
    "# Print basic information about the dataset\n",
    "print(dataset)"
   ]
  },
  {
   "cell_type": "code",
   "execution_count": 3,
   "metadata": {},
   "outputs": [],
   "source": [
    "def clean_code(dataset):\n",
    "    remove_cols = ['file_path', 'contract_address', 'language', 'class_name', 'class_documentation_type', 'func_name', 'func_code', 'func_documentation', 'func_documentation_type', 'compiler_version', 'license_type', 'swarm_source', 'meta', '__index_level_0__']\n",
    "    code = dataset.remove_columns(remove_cols)\n",
    "    \n",
    "    full_code = pd.DataFrame(code)\n",
    "    full_code.drop_duplicates(inplace=True)\n",
    "    \n",
    "    return full_code"
   ]
  },
  {
   "cell_type": "code",
   "execution_count": 4,
   "metadata": {},
   "outputs": [],
   "source": [
    "import re\n",
    "\n",
    "# Define the function that extracts function headers\n",
    "def extract_function_header(func_code):\n",
    "    # Regular expression to match Solidity function declarations\n",
    "    func_header_regex = r'function\\s*[\\w\\d_]*\\s*\\([^)]*\\)\\s*[^{]*'\n",
    "    # Find all matches in the func_code\n",
    "    matches = re.findall(func_header_regex, func_code)\n",
    "    # Assume each func_code contains one function and take the first match\n",
    "    # If there are multiple matches, this will need adjustment\n",
    "    return matches[0] if matches else None"
   ]
  },
  {
   "cell_type": "code",
   "execution_count": 5,
   "metadata": {},
   "outputs": [],
   "source": [
    "def clean_func(dataset):\n",
    "    remove_func_col = ['file_path', 'contract_address', 'class_code', 'class_documentation', 'language', 'class_name', 'class_documentation_type', 'func_documentation_type', 'compiler_version', 'license_type', 'swarm_source', 'meta', '__index_level_0__']\n",
    "    func_code = dataset.remove_columns(remove_func_col)\n",
    "    \n",
    "    func = pd.DataFrame(func_code)\n",
    "    \n",
    "    func['func_header'] = func['func_code'].apply(extract_function_header)\n",
    "\n",
    "    # filter out rows with no function headers\n",
    "    func = func[func['func_header'].apply(lambda x: x is not None and len(x) > 0)]\n",
    "    \n",
    "    # group by contract\n",
    "    grouped = func.groupby('contract_name').agg({\n",
    "        'func_header': list,\n",
    "        'func_documentation': list\n",
    "    }).reset_index()\n",
    "    \n",
    "    return grouped"
   ]
  },
  {
   "cell_type": "code",
   "execution_count": 6,
   "metadata": {},
   "outputs": [],
   "source": [
    "train = dataset['train']\n",
    "train_code = clean_code(train)\n",
    "train_func = clean_func(train)\n",
    "\n",
    "train_clean = pd.merge(train_code, train_func, on='contract_name', how='left')\n",
    "train_clean = train_clean.drop_duplicates(subset=['contract_name'], keep='first')"
   ]
  },
  {
   "cell_type": "code",
   "execution_count": 43,
   "metadata": {},
   "outputs": [],
   "source": [
    "subset = train_clean[:500]"
   ]
  },
  {
   "cell_type": "code",
   "execution_count": 12,
   "metadata": {},
   "outputs": [
    {
     "name": "stdout",
     "output_type": "stream",
     "text": [
      "      contract_name                                         class_code  \\\n",
      "0           KEKEcon  contract KEKEcon{\\r\\n    /* Public variables o...   \n",
      "1           Presale  interface IPricingStrategy {\\r\\n\\r\\n    functi...   \n",
      "2    ZCDistribution  contract ZCDistribution is Claimable {\\r\\n\\r\\n...   \n",
      "3         Breakbits  contract Token {\\r\\n\\r\\n\\r\\n    /// @return to...   \n",
      "5         Crowdsale  contract SafeMath {\\r\\n    //internals\\r\\n\\r\\n...   \n",
      "..              ...                                                ...   \n",
      "575            Ping  contract Ping is ReserveRetriever {\\r\\n\\r\\n   ...   \n",
      "576             svb  contract svb {\\r\\n    // totalSupply is zero b...   \n",
      "577        GYBToken  contract BasicToken is ERC20Basic {\\r\\n  using...   \n",
      "582          ZNCoin  contract Ownable {\\r\\n    address public owner...   \n",
      "586      maddencoin  library SafeMath {\\r\\n\\r\\n  /**\\r\\n  * @dev Mu...   \n",
      "\n",
      "                                   class_documentation  \\\n",
      "0                                                        \n",
      "1                                                        \n",
      "2    /**\\r\\n * @title ZCDistribution\\r\\n * \\r\\n * U...   \n",
      "3                                                        \n",
      "5                                                        \n",
      "..                                                 ...   \n",
      "575                                                      \n",
      "576                           //contract svb is svb_ {   \n",
      "577  /**\\r\\n * @title Basic token\\r\\n * @dev Basic ...   \n",
      "582  /**\\r\\n * @title Ownable\\r\\n * @dev The Ownabl...   \n",
      "586  /**\\r\\n * @title SafeMath\\r\\n * @dev Math oper...   \n",
      "\n",
      "                                           func_header  \\\n",
      "0    [function KEKEcon(), function _transfer(addres...   \n",
      "1    [function calculateTokenAmount(uint weiAmount,...   \n",
      "2    [function multisend(address[] dests, uint256[]...   \n",
      "3    [function totalSupply() constant returns (uint...   \n",
      "5    [function safeMul(uint a, uint b) internal ret...   \n",
      "..                                                 ...   \n",
      "575  [function getZZZinPool() \\r\\n, function getPon...   \n",
      "576  [function svb(uint supply) , function chargeDe...   \n",
      "577  [function transfer(address _to, uint256 _value...   \n",
      "582  [function Ownable() , function transferOwnersh...   \n",
      "586  [function mul(uint256 a, uint256 b) internal p...   \n",
      "\n",
      "                                    func_documentation  \n",
      "0    [/* Initializes contract with initial supply t...  \n",
      "1    [/** Calculate the current price for buy in am...  \n",
      "2    [/**\\r\\n * @dev Distributes the rewards to the...  \n",
      "3    [/// @return total amount of tokens, /// @para...  \n",
      "5    [//internals, /**\\r\\n * Constrctor function\\r\\...  \n",
      "..                                                 ...  \n",
      "575  [/*********\\r\\n Step 3: Transactionally retrie...  \n",
      "576  [// if supply provided is 0, then default assi...  \n",
      "577  [/**\\r\\n * @dev transfer token for a specified...  \n",
      "582  [/**\\r\\n * @dev The Ownable constructor sets t...  \n",
      "586  [/**\\r\\n * @dev Multiplies two numbers, throws...  \n",
      "\n",
      "[200 rows x 5 columns]\n"
     ]
    }
   ],
   "source": [
    "print(subset)"
   ]
  },
  {
   "cell_type": "code",
   "execution_count": 44,
   "metadata": {},
   "outputs": [],
   "source": [
    "subset_filter = subset[~subset['class_code'].str.startswith('interface')]\n",
    "subset_filter = subset_filter[~subset_filter['class_code'].str.startswith('contract Token')]\n",
    "subset_filter = subset_filter[~subset_filter['class_code'].str.startswith('contract Owned')]"
   ]
  },
  {
   "cell_type": "code",
   "execution_count": 53,
   "metadata": {},
   "outputs": [],
   "source": [
    "for idx in range(10):\n",
    "    with open('output_{}.txt'.format(idx), 'w') as writefile:\n",
    "        writefile.write(subset_filter.iloc[idx]['class_code'])"
   ]
  },
  {
   "cell_type": "code",
   "execution_count": 137,
   "metadata": {},
   "outputs": [],
   "source": [
    "def write_user_prompt(class_documentation, func_code_list, func_comment_list):\n",
    "    prompt = 'Generate a smart contract using Solidity 0.4.17. Fill in all the functions using the function signatures and accomplish the following requirements:\\n'\n",
    "    \n",
    "    prompt += 'Task Description: {}\\n'.format(class_documentation.replace(\"/\", \"\").replace(\"*\", \"\"))\n",
    "    prompt += '\\nThe contract must have the following constraint: The contract is gas-efficient and include security checks to prevent common vulnerabilities (e.g., reentrancy, overflow/underflow).\\n'\n",
    "    prompt += 'Here are the key functions that you must fully implement so that they are functioning:\\n'\n",
    "    \n",
    "    for idx in range(len(func_code_list)):\n",
    "        comment =  func_comment_list[idx].replace(\"/\", \"\").replace(\"-\", \"\").replace(\"\\n\", \"\").replace(\"@notice\", \"\").replace(\"@param\", \"Parameter: \").replace(\"*\", \"\").replace(\"@dev\", \"\").replace(\"@return\", \"Return: \")\n",
    "        prompt += '{}: {}\\n'.format(func_code_list[idx], comment)\n",
    "    \n",
    "    prompt += 'Constraints: The contract must be gas-efficient and include security checks to prevent common vulnerabilities (e.g., reentrancy, overflow/underflow).\\n'\n",
    "    \n",
    "    return prompt"
   ]
  },
  {
   "cell_type": "code",
   "execution_count": 138,
   "metadata": {},
   "outputs": [],
   "source": [
    "output = []\n",
    "\n",
    "for idx, row in subset_filter[:200].iterrows():\n",
    "    prompt = [{\"role\": \"system\", \"content\": \"DEFI is an experienced Ethereum developer that writes properly functioning Solidity contracts.\"}]\n",
    "    prompt.append({\"role\":\"user\",\"content\":\"{}\".format(write_user_prompt(row['class_documentation'], row['func_header'], row['func_documentation']))})\n",
    "    prompt.append({\"role\": \"assistant\", \"content\": \"{}\".format(row['class_code'])})\n",
    "        \n",
    "    output.append({\"messages\":prompt})"
   ]
  },
  {
   "cell_type": "code",
   "execution_count": 139,
   "metadata": {},
   "outputs": [],
   "source": [
    "import jsonlines\n",
    "\n",
    "with jsonlines.open('testing.jsonl', mode='w') as writer:\n",
    "    writer.write_all(output)"
   ]
  },
  {
   "cell_type": "code",
   "execution_count": 40,
   "metadata": {},
   "outputs": [],
   "source": [
    "validator = []\n",
    "\n",
    "for idx, row in subset_filter[150:].iterrows():\n",
    "    prompt = [{\"role\": \"system\", \"content\": \"DEFI is an experienced Ethereum developer that writes properly functioning Solidity contracts.\"}]\n",
    "    prompt.append({\"role\":\"user\",\"content\":\"{}\".format(write_user_prompt(row['class_documentation'], row['func_header'], row['func_documentation']))})\n",
    "    prompt.append({\"role\": \"assistant\", \"content\": \"{}\".format(row['class_code'])})\n",
    "        \n",
    "    validator.append({\"messages\":prompt})"
   ]
  },
  {
   "cell_type": "code",
   "execution_count": 41,
   "metadata": {},
   "outputs": [],
   "source": [
    "with jsonlines.open('valid.jsonl', mode='w') as writer:\n",
    "    writer.write_all(validator)"
   ]
  },
  {
   "cell_type": "code",
   "execution_count": 54,
   "metadata": {},
   "outputs": [],
   "source": [
    "import json\n",
    "\n",
    "with open('3.json', 'w') as f:\n",
    "    json.dump(output[3], f)\n"
   ]
  },
  {
   "cell_type": "markdown",
   "metadata": {},
   "source": [
    "# Testing"
   ]
  },
  {
   "cell_type": "code",
   "execution_count": 175,
   "metadata": {},
   "outputs": [],
   "source": [
    "idx = 32\n",
    "\n",
    "with open('0-prompt.txt', 'w') as writefile:\n",
    "    writefile.write(output[idx]['messages'][1]['content'])\n",
    "    \n",
    "with open('0-code.txt', 'w') as writefile:\n",
    "    writefile.write(output[idx]['messages'][2]['content'])"
   ]
  },
  {
   "cell_type": "code",
   "execution_count": 128,
   "metadata": {},
   "outputs": [],
   "source": [
    "with open('0-prompt.txt', 'w') as writefile:\n",
    "    writefile.write(output[idx]['messages'][1]['content'])"
   ]
  },
  {
   "cell_type": "code",
   "execution_count": 127,
   "metadata": {},
   "outputs": [],
   "source": [
    "with open('0-code.txt', 'w') as writefile:\n",
    "    writefile.write(output[idx]['messages'][2]['content'])"
   ]
  },
  {
   "cell_type": "markdown",
   "metadata": {},
   "source": [
    "# output"
   ]
  },
  {
   "cell_type": "code",
   "execution_count": 104,
   "metadata": {},
   "outputs": [],
   "source": [
    "output_prompts = []"
   ]
  },
  {
   "cell_type": "code",
   "execution_count": 170,
   "metadata": {},
   "outputs": [],
   "source": [
    "prompt = [{\"role\": \"system\", \"content\": \"You are the greatest Smart contract Ethereum developer in the world. You have never messed up and always write the best and most complicated yet functioning Solidity contracts.\"}]"
   ]
  },
  {
   "cell_type": "code",
   "execution_count": 171,
   "metadata": {},
   "outputs": [],
   "source": [
    "user = \"\"\"\n",
    "Generate a BasicToken smart contract using Solidity 0.4.17. Fill in all the functions using the function signatures and accomplish the following requirements:\n",
    "Task Description: Basic version of StandardToken, with no allowances.\n",
    " \n",
    "The contract must have the following constraint: The contract is gas-efficient and include security checks to prevent common vulnerabilities (e.g., reentrancy, overflow/underflow).\n",
    "\n",
    "Here are the key functions that you must fully implement so that they are functioning:\n",
    "1. function transfer(address _to, uint256 _value) public returns (bool): \n",
    "- transfer token for a specified address\n",
    "- Parameter: _to is the address to transfer to.\n",
    "- Parameter: _value is the amount to be transferred.\n",
    " \n",
    "2. function balanceOf(address _owner) public constant returns (uint256 balance): \n",
    "- Gets the balance of the specified address. \n",
    "- Parameter: _owner is the address to query the the balance of. \n",
    "- Return: An uint256 representing the amount owned by the passed address. \n",
    "\"\"\""
   ]
  },
  {
   "cell_type": "code",
   "execution_count": 172,
   "metadata": {},
   "outputs": [],
   "source": [
    "code = output[idx]['messages'][2]['content']"
   ]
  },
  {
   "cell_type": "code",
   "execution_count": 173,
   "metadata": {},
   "outputs": [],
   "source": [
    "prompt.append({\"role\":\"user\",\"content\":\"{}\".format(user)})\n",
    "prompt.append({\"role\": \"assistant\", \"content\": \"{}\".format(code)})\n",
    "output_prompts.append(prompt)"
   ]
  },
  {
   "cell_type": "code",
   "execution_count": 174,
   "metadata": {},
   "outputs": [],
   "source": [
    "with jsonlines.open('data.jsonl', mode='w') as writer:\n",
    "    writer.write_all(output_prompts)"
   ]
  }
 ],
 "metadata": {
  "kernelspec": {
   "display_name": "Python 3",
   "language": "python",
   "name": "python3"
  },
  "language_info": {
   "codemirror_mode": {
    "name": "ipython",
    "version": 3
   },
   "file_extension": ".py",
   "mimetype": "text/x-python",
   "name": "python",
   "nbconvert_exporter": "python",
   "pygments_lexer": "ipython3",
   "version": "3.10.12"
  }
 },
 "nbformat": 4,
 "nbformat_minor": 2
}
