{
 "cells": [
  {
   "cell_type": "code",
   "execution_count": null,
   "metadata": {},
   "outputs": [],
   "source": [
    "!pip install jsonlines"
   ]
  },
  {
   "cell_type": "code",
   "execution_count": 2,
   "metadata": {},
   "outputs": [],
   "source": [
    "import pandas as pd"
   ]
  },
  {
   "cell_type": "code",
   "execution_count": 3,
   "metadata": {},
   "outputs": [],
   "source": [
    "df = pd.read_json('testing.jsonl', lines=True)"
   ]
  },
  {
   "cell_type": "markdown",
   "metadata": {},
   "source": [
    "# Test Prompt"
   ]
  },
  {
   "cell_type": "code",
   "execution_count": 23,
   "metadata": {},
   "outputs": [],
   "source": [
    "idx = 11\n",
    "\n",
    "with open('prompt.txt', 'w') as writefile:\n",
    "    writefile.write(df.iloc[idx]['messages'][1]['content'])\n",
    "    \n",
    "with open('code.txt', 'w') as writefile:\n",
    "    writefile.write(df.iloc[idx]['messages'][2]['content'])"
   ]
  },
  {
   "cell_type": "markdown",
   "metadata": {},
   "source": [
    "# Valid Prompts"
   ]
  },
  {
   "cell_type": "code",
   "execution_count": 9,
   "metadata": {},
   "outputs": [],
   "source": [
    "output = []"
   ]
  },
  {
   "cell_type": "code",
   "execution_count": 15,
   "metadata": {},
   "outputs": [],
   "source": [
    "prompt = [{\"role\": \"system\", \"content\": \"You are the greatest Smart contract Ethereum developer in the world. You have never messed up and always write the best and most complicated yet functioning Solidity contracts.\"}]"
   ]
  },
  {
   "cell_type": "code",
   "execution_count": 16,
   "metadata": {},
   "outputs": [],
   "source": [
    "user = \"\"\"\n",
    "Generate a AbstractToken smart contract using Solidity 0.4.17. Fill in all the functions using the function signatures and accomplish the following requirements:\n",
    "Task Description: Abstract Token Smart Contract that could be used as a base contract forERC-20 token contracts.\n",
    " \n",
    "The contract must have the following constraint: The contract is gas-efficient and include security checks to prevent common vulnerabilities (e.g., reentrancy, overflow/underflow).\n",
    "\n",
    "Here are the key functions that you must fully implement so that they are functioning:\n",
    "1. function balanceOf(address _owner) public view returns (uint256 balance): \n",
    "- Get number of tokens currently belonging to given owner.\n",
    "- Parameter: _owner is the address to get number of tokens currently belonging to the owner\n",
    "- Return: number of tokens currently belonging to the owner of given address\n",
    " \n",
    "2. function transfer(address _to, uint256 _value) public returns (bool success): \n",
    "- Transfer given number of tokens from message sender to given recipient.\n",
    "- Parameter: _to is the address to transfer tokens to the owner of\n",
    "- Parameter: _value is the number of tokens to transfer to the owner of given address\n",
    "- Return: true if tokens were transferred successfully, false otherwise accounts [_to] + _value > accounts [_to] for overflow check which is already in safeMath\n",
    " \n",
    "3. function transferFrom(address _from, address _to, uint256 _value) public returns (bool success): \n",
    "- Transfer given number of tokens from given owner to given recipient.\n",
    "- Parameter: _from is the address to transfer tokens from the owner of\n",
    "- Parameter: _to is the address to transfer tokens to the owner of\n",
    "- Parameter: _value is the number of tokens to transfer from given owner to given recipient\n",
    "- Return: true if tokens were transferred successfully, false otherwise accounts [_to] + _value > accounts [_to] for overflow check which is already in safeMath\n",
    " \n",
    "4. function approve (address _spender, uint256 _value) public returns (bool success): Allow given spender to transfer given number of tokens from message sender.\n",
    "- Parameter: _spender is the address to allow the owner of to transfer tokens from message sender\n",
    "- Parameter: _value is the number of tokens to allow to transfer\n",
    "- return true if token transfer was successfully approved, false otherwise\n",
    " \n",
    "5. function allowance(address _owner, address _spender) public view returns (uint256 remaining): \n",
    "- Tell how many tokens given spender is currently allowed to transfer from given owner.\n",
    "- Parameter: _owner is the address to get number of tokens allowed to be transferred from the owner of\n",
    "- Parameter: _spender is the address to get number of tokens allowed to be transferred by the owner of\n",
    "- Return: number of tokens given spender is currently allowed to transfer from given owner\n",
    "\"\"\""
   ]
  },
  {
   "cell_type": "code",
   "execution_count": 17,
   "metadata": {},
   "outputs": [],
   "source": [
    "code = df.iloc[idx]['messages'][2]['content']"
   ]
  },
  {
   "cell_type": "code",
   "execution_count": 18,
   "metadata": {},
   "outputs": [],
   "source": [
    "prompt.append({\"role\":\"user\",\"content\":\"{}\".format(user)})\n",
    "prompt.append({\"role\": \"assistant\", \"content\": \"{}\".format(code)})\n",
    "\n",
    "output.append(prompt)"
   ]
  },
  {
   "cell_type": "code",
   "execution_count": 19,
   "metadata": {},
   "outputs": [
    {
     "data": {
      "text/plain": [
       "2"
      ]
     },
     "execution_count": 19,
     "metadata": {},
     "output_type": "execute_result"
    }
   ],
   "source": [
    "len(output)"
   ]
  }
 ],
 "metadata": {
  "kernelspec": {
   "display_name": "Python 3",
   "language": "python",
   "name": "python3"
  },
  "language_info": {
   "codemirror_mode": {
    "name": "ipython",
    "version": 3
   },
   "file_extension": ".py",
   "mimetype": "text/x-python",
   "name": "python",
   "nbconvert_exporter": "python",
   "pygments_lexer": "ipython3",
   "version": "3.10.12"
  }
 },
 "nbformat": 4,
 "nbformat_minor": 2
}
